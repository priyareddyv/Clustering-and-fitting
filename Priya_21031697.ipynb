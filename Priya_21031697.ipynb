{
 "cells": [
  {
   "cell_type": "markdown",
   "id": "e08ebe5f",
   "metadata": {},
   "source": [
    "# Clustering and Fitting\n",
    "\n",
    "\n",
    "### Student Name: Priya Reddy Vadde\n",
    "\n",
    "\n",
    "#### Student ID: 21031697\n"
   ]
  },
  {
   "cell_type": "markdown",
   "id": "e40b8fac",
   "metadata": {},
   "source": [
    "# Exploring the data from World development indicators"
   ]
  },
  {
   "cell_type": "code",
   "execution_count": null,
   "id": "5b618f7d",
   "metadata": {
    "scrolled": true
   },
   "outputs": [],
   "source": [
    "## First we read the last 7 climate data into a pandas dataframe\n",
    "\n",
    "import pandas as pd\n",
    "climate_df = pd.read_csv('climate_data.csv')\n",
    "climate_df.tail(7)"
   ]
  },
  {
   "cell_type": "code",
   "execution_count": null,
   "id": "7864e469",
   "metadata": {},
   "outputs": [],
   "source": [
    "## We then make lable column headers for variables\n",
    "\n",
    "climate_df = climate_df.rename(columns={\"Country Name\":\"name\",\"Country Code\":\"code\",\"Energy use (kg of oil equivalent per capita) 2015\":\"energy_pc\",\"GDP per capita, PPP (current international $) 2015\":\"gdp_pc\" ,\"CO2 per capita (ton CO2/cap) 2015\":\"co2_pc\"})\n",
    "climate_df.describe()"
   ]
  },
  {
   "cell_type": "code",
   "execution_count": null,
   "id": "31bb4eca",
   "metadata": {},
   "outputs": [],
   "source": [
    "## visualising relationships and calculating r-squared values\n",
    "\n",
    "energy = climate_df['energy_pc']\n",
    "gdp = climate_df['gdp_pc']\n",
    "co2 = climate_df['co2_pc']\n",
    "\n",
    "import matplotlib.pyplot as plt\n",
    "import seaborn as sns\n",
    "import numpy as np\n",
    "\n",
    "sns.pairplot(climate_df)"
   ]
  },
  {
   "cell_type": "code",
   "execution_count": null,
   "id": "b375aac6",
   "metadata": {},
   "outputs": [],
   "source": [
    "climate_df.corr()*climate_df.corr()"
   ]
  },
  {
   "cell_type": "code",
   "execution_count": null,
   "id": "93a2c41b",
   "metadata": {},
   "outputs": [],
   "source": [
    "## Now we visualize the strongest relationship between energy and co2 \n",
    "\n",
    "plt.scatter(climate_df['energy_pc'], climate_df['co2_pc'], color='red',label='Standardized', alpha=0.3)\n",
    "plt.scatter(climate_df['energy_pc'], climate_df['co2_pc'], color='blue',label='Normalised', alpha=0.3)"
   ]
  },
  {
   "cell_type": "markdown",
   "id": "94237177",
   "metadata": {},
   "source": [
    "#  clustering by dendrogram"
   ]
  },
  {
   "cell_type": "code",
   "execution_count": null,
   "id": "ff80944e",
   "metadata": {},
   "outputs": [],
   "source": [
    "## visualising hierarchical clustering with ward method using dendrogram - formatted with labels\n",
    "\n",
    "dendro_df = pd.DataFrame({'labels': climate_df['name'], 'energy':climate_df['energy_pc'], 'gdp':climate_df['gdp_pc'], 'co2':climate_df['co2_pc']})\n",
    "\n",
    "import scipy.cluster.hierarchy as shc\n",
    "plt.figure(figsize=(50, 15))\n",
    "plt.yticks(fontsize=15)\n",
    "plt.title(\"Dendrogram visualising hierarchical clustering countries with respect to per capita carbon emissions, energy use and GDP\", fontsize = 30)  \n",
    "dend = shc.dendrogram(shc.linkage(dendro_df[['energy', 'gdp', 'co2']], method='ward'), labels=list(dendro_df['labels']), leaf_font_size=15)"
   ]
  },
  {
   "cell_type": "code",
   "execution_count": null,
   "id": "5d98a15a",
   "metadata": {},
   "outputs": [],
   "source": [
    "## visualising distribution of samples for each variable\n",
    "\n",
    "import seaborn as sns\n",
    "sns.violinplot(y=climate_df[\"gdp_pc\"], x=climate_df[\"energy_pc\"])"
   ]
  },
  {
   "cell_type": "code",
   "execution_count": null,
   "id": "03643016",
   "metadata": {},
   "outputs": [],
   "source": [
    "## visualising distribution of samples for each variable\n",
    "\n",
    "import seaborn as sns\n",
    "sns.violinplot(y=climate_df[\"gdp_pc\"], x=climate_df[\"co2_pc\"])"
   ]
  },
  {
   "cell_type": "code",
   "execution_count": null,
   "id": "2985d6a2",
   "metadata": {},
   "outputs": [],
   "source": [
    "## visualising distribution of samples for each variable\n",
    "\n",
    "import seaborn as sns\n",
    "sns.violinplot(y=climate_df[\"energy_pc\"], x=climate_df[\"co2_pc\"])"
   ]
  },
  {
   "cell_type": "code",
   "execution_count": null,
   "id": "529ea1c5",
   "metadata": {},
   "outputs": [],
   "source": [
    "import numpy as np\n",
    "import matplotlib.pyplot as plt\n",
    "from scipy.optimize import curve_fit"
   ]
  },
  {
   "cell_type": "code",
   "execution_count": null,
   "id": "8058d7be",
   "metadata": {},
   "outputs": [],
   "source": [
    "xdata = ['energy_pc']\n",
    "ydata = ['co2_pc']"
   ]
  },
  {
   "cell_type": "code",
   "execution_count": null,
   "id": "7b14a89d",
   "metadata": {},
   "outputs": [],
   "source": [
    "#Recast xdata and ydata into numpy arrays so we can use their handy features\n",
    "xdata = np.asarray(xdata)\n",
    "ydata = np.asarray(ydata)\n",
    "plt.plot(xdata, ydata, 'o')"
   ]
  },
  {
   "cell_type": "markdown",
   "id": "f201e35e",
   "metadata": {},
   "source": [
    "### Now to fit a curve we need to stardardize the data"
   ]
  },
  {
   "cell_type": "code",
   "execution_count": null,
   "id": "053d940c",
   "metadata": {},
   "outputs": [],
   "source": [
    "\n",
    "from sklearn import preprocessing\n",
    "\n",
    "std_scale = preprocessing.StandardScaler().fit(climate_df[['energy_pc', 'gdp_pc', 'co2_pc']])\n",
    "std = std_scale.transform(climate_df[['energy_pc', 'gdp_pc', 'co2_pc']])\n",
    "climate_df_std = pd.DataFrame(data = std)\n",
    "\n",
    "minmax_scale = preprocessing.MinMaxScaler().fit(climate_df[['energy_pc', 'gdp_pc', 'co2_pc']])\n",
    "minmax = minmax_scale.transform(climate_df[['energy_pc', 'gdp_pc', 'co2_pc']])\n",
    "climate_df_minmax = pd.DataFrame(data = minmax)"
   ]
  },
  {
   "cell_type": "markdown",
   "id": "5f19ed42",
   "metadata": {},
   "source": [
    "#### Now we print linear min max normalisation"
   ]
  },
  {
   "cell_type": "code",
   "execution_count": null,
   "id": "37dd03fe",
   "metadata": {},
   "outputs": [],
   "source": [
    "print(climate_df_std)\n",
    "print(type(climate_df_std))"
   ]
  },
  {
   "cell_type": "code",
   "execution_count": null,
   "id": "555f736f",
   "metadata": {},
   "outputs": [],
   "source": [
    "## we have to rename preprocessed dataframe columns for consistency\n",
    "\n",
    "climate_df_std = climate_df_std.rename(columns={0:\"energy_pc\",1:\"gdp_pc\",2:\"co2_pc\"})\n",
    "climate_df_minmax = climate_df_minmax.rename(columns={0:\"energy_pc\",1:\"gdp_pc\",2:\"co2_pc\"})\n",
    "climate_df_std.head(5)"
   ]
  },
  {
   "cell_type": "code",
   "execution_count": null,
   "id": "906d4278",
   "metadata": {},
   "outputs": [],
   "source": [
    "from sklearn.cluster import AgglomerativeClustering\n",
    "cluster = AgglomerativeClustering(n_clusters=3, affinity='euclidean', linkage='ward')  \n",
    "cluster.fit_predict(climate_df_std)"
   ]
  },
  {
   "cell_type": "markdown",
   "id": "278bcb60",
   "metadata": {},
   "source": [
    "##### Partitioning using KMeans with 3 clusters and plot"
   ]
  },
  {
   "cell_type": "code",
   "execution_count": null,
   "id": "f6a9ca0f",
   "metadata": {},
   "outputs": [],
   "source": [
    "from sklearn.cluster import KMeans\n",
    "\n",
    "kmeans = KMeans(n_clusters=3, init='k-means++', n_init=100).fit(climate_df_std)\n",
    "centroids = kmeans.cluster_centers_\n",
    "print(centroids)\n",
    "\n",
    "plt.scatter(climate_df_std['energy_pc'], climate_df_std['co2_pc'], c= kmeans.labels_.astype(float), s=50, alpha=0.5)\n",
    "plt.scatter(centroids[:, 0], centroids[:, 1], c='red', s=50)"
   ]
  },
  {
   "cell_type": "markdown",
   "id": "c278656d",
   "metadata": {},
   "source": [
    "#### Create simple model(s) fitting data sets with curve_fit"
   ]
  },
  {
   "cell_type": "code",
   "execution_count": null,
   "id": "2d8d3f17",
   "metadata": {},
   "outputs": [],
   "source": [
    "## Elbow method to optimise number of clusters\n",
    "import warnings\n",
    "warnings.filterwarnings(\"ignore\")\n",
    "inertias = []\n",
    "ks = range(1,8)\n",
    "\n",
    "for k in ks:\n",
    "    model = KMeans(n_clusters=k, init='k-means++', n_init=50).fit(climate_df_std)\n",
    "    inertias.append(model.inertia_)\n",
    "    \n",
    "plt.plot(ks, inertias, '-o')\n",
    "plt.xlabel('number of clusters')\n",
    "plt.ylabel('inertia value')\n",
    "plt.title('Investigation of optimal n clusters with elbow method')"
   ]
  },
  {
   "cell_type": "code",
   "execution_count": null,
   "id": "469652db",
   "metadata": {},
   "outputs": [],
   "source": []
  }
 ],
 "metadata": {
  "kernelspec": {
   "display_name": "Python 3 (ipykernel)",
   "language": "python",
   "name": "python3"
  },
  "language_info": {
   "codemirror_mode": {
    "name": "ipython",
    "version": 3
   },
   "file_extension": ".py",
   "mimetype": "text/x-python",
   "name": "python",
   "nbconvert_exporter": "python",
   "pygments_lexer": "ipython3",
   "version": "3.9.7"
  }
 },
 "nbformat": 4,
 "nbformat_minor": 5
}
